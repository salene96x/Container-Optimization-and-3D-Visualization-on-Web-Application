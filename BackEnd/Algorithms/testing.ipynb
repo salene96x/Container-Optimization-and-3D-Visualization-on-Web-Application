{
 "cells": [
  {
   "cell_type": "code",
   "execution_count": 3,
   "metadata": {},
   "outputs": [],
   "source": [
    "# from GeneticAlgorithm2 import GeneticAlgorithm\n",
    "# from StackMaker import StacksMaker"
   ]
  },
  {
   "cell_type": "code",
   "execution_count": 4,
   "metadata": {},
   "outputs": [],
   "source": [
    "# dummy_parcels  = {\n",
    "#     'ssp' : 100,\n",
    "#     'smp' : 500, \n",
    "#     'hssp' : 800, \n",
    "#     'mlp' : 100, \n",
    "#     'mp' : 900, \n",
    "#     'lp' : 300,\n",
    "#     'lhp' : 100,\n",
    "#     'etc' : 70\n",
    "# }\n",
    "# dummy_weights = {\n",
    "#     'ssp' : [10],\n",
    "#     'smp' : [10],\n",
    "#     'hssp' : [10],\n",
    "#     'mlp' : [10],\n",
    "#     'mp' : [10],\n",
    "#     'lp' : [10],\n",
    "#     'lhp' : [10], \n",
    "#     'etc' : [10]\n",
    "# }\n",
    "# stack_maker = StacksMaker(dummy_parcels, dummy_weights)\n",
    "# stacks, remaining_parcels, same_type_stacking, mix_type_stacking = stack_maker.execute()\n",
    "# ga = GeneticAlgorithm(\"Large\", remaining_parcels, stacks)\n",
    "# ga.run()"
   ]
  },
  {
   "cell_type": "code",
   "execution_count": 54,
   "metadata": {},
   "outputs": [
    {
     "name": "stdout",
     "output_type": "stream",
     "text": [
      "1.4914004914004915\n"
     ]
    }
   ],
   "source": [
    "x = 11.88\n",
    "y = 12\n",
    "max = 24.42\n",
    "eq_2 = 1 + (12 - 0.)\n",
    "equation = 1 + (y - x) / max\n",
    "print(equation)"
   ]
  },
  {
   "cell_type": "code",
   "execution_count": null,
   "metadata": {},
   "outputs": [],
   "source": []
  },
  {
   "cell_type": "code",
   "execution_count": null,
   "metadata": {},
   "outputs": [],
   "source": []
  }
 ],
 "metadata": {
  "interpreter": {
   "hash": "aee8b7b246df8f9039afb4144a1f6fd8d2ca17a180786b69acc140d282b71a49"
  },
  "kernelspec": {
   "display_name": "Python 3.10.5 64-bit",
   "language": "python",
   "name": "python3"
  },
  "language_info": {
   "codemirror_mode": {
    "name": "ipython",
    "version": 3
   },
   "file_extension": ".py",
   "mimetype": "text/x-python",
   "name": "python",
   "nbconvert_exporter": "python",
   "pygments_lexer": "ipython3",
   "version": "3.10.5"
  },
  "orig_nbformat": 4
 },
 "nbformat": 4,
 "nbformat_minor": 2
}
